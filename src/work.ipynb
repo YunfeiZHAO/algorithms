{
 "cells": [
  {
   "cell_type": "code",
   "execution_count": 1,
   "id": "dccf7bdd",
   "metadata": {},
   "outputs": [],
   "source": [
    "import math"
   ]
  },
  {
   "cell_type": "code",
   "execution_count": 2,
   "id": "b94dcb48",
   "metadata": {},
   "outputs": [],
   "source": [
    "a = math.inf"
   ]
  },
  {
   "cell_type": "code",
   "execution_count": 4,
   "id": "32da603e",
   "metadata": {},
   "outputs": [
    {
     "data": {
      "text/plain": [
       "float"
      ]
     },
     "execution_count": 4,
     "metadata": {},
     "output_type": "execute_result"
    }
   ],
   "source": [
    "type(a)"
   ]
  },
  {
   "cell_type": "code",
   "execution_count": 1,
   "id": "7922c685",
   "metadata": {},
   "outputs": [],
   "source": [
    "import numpy as np"
   ]
  },
  {
   "cell_type": "code",
   "execution_count": 2,
   "id": "47bc3f6a",
   "metadata": {},
   "outputs": [],
   "source": [
    "w = [1, 2, 3]\n",
    "p = [0.5, 0.5, 0]"
   ]
  },
  {
   "cell_type": "code",
   "execution_count": null,
   "id": "0fe6f678",
   "metadata": {},
   "outputs": [
    {
     "data": {
      "text/plain": [
       "1"
      ]
     },
     "execution_count": 20,
     "metadata": {},
     "output_type": "execute_result"
    }
   ],
   "source": [
    "import numpy as np\n",
    "\n",
    "# Assuming w and p are already defined\n",
    "# w = [...]\n",
    "# p = [...]\n",
    "\n",
    "# Method 1: Use indices directly\n",
    "selected_index = np.random.choice(len(w), p=p)\n",
    "print(f\"Selected index: {selected_index}\")\n",
    "print(f\"Selected value: {w[selected_index]}\")\n",
    "\n",
    "# Method 2: Use np.arange for clarity\n",
    "selected_index = np.random.choice(np.arange(len(w)), p=p)\n",
    "print(f\"Selected index: {selected_index}\")\n",
    "print(f\"Selected value: {w[selected_index]}\")\n",
    "\n",
    "# Method 3: If you want both index and value\n",
    "indices = np.arange(len(w))\n",
    "selected_index = np.random.choice(indices, p=p)\n",
    "selected_value = w[selected_index]\n",
    "print(f\"Index: {selected_index}, Value: {selected_value}\")"
   ]
  },
  {
   "cell_type": "code",
   "execution_count": null,
   "id": "d0133a40",
   "metadata": {},
   "outputs": [],
   "source": []
  },
  {
   "cell_type": "code",
   "execution_count": null,
   "id": "4686f353",
   "metadata": {},
   "outputs": [],
   "source": []
  },
  {
   "cell_type": "code",
   "execution_count": null,
   "id": "fcef8fe6",
   "metadata": {},
   "outputs": [],
   "source": []
  }
 ],
 "metadata": {
  "kernelspec": {
   "display_name": "base",
   "language": "python",
   "name": "python3"
  },
  "language_info": {
   "codemirror_mode": {
    "name": "ipython",
    "version": 3
   },
   "file_extension": ".py",
   "mimetype": "text/x-python",
   "name": "python",
   "nbconvert_exporter": "python",
   "pygments_lexer": "ipython3",
   "version": "3.11.3"
  }
 },
 "nbformat": 4,
 "nbformat_minor": 5
}
